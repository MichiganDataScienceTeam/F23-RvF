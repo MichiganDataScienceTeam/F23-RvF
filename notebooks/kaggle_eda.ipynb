{
  "nbformat": 4,
  "nbformat_minor": 0,
  "metadata": {
    "colab": {
      "provenance": []
    },
    "kernelspec": {
      "name": "python3",
      "display_name": "Python 3"
    },
    "language_info": {
      "name": "python"
    }
  },
  "cells": [
    {
      "cell_type": "markdown",
      "source": [
        "# Kaggle Setup + EDA"
      ],
      "metadata": {
        "id": "mmrQs5WqwJR_"
      }
    },
    {
      "cell_type": "markdown",
      "source": [
        "The goal of this notebook is to:\n",
        "- setup access to the Kaggle Real vs Fake Faces dataset\n",
        "- explore the dataset!"
      ],
      "metadata": {
        "id": "5iVAZ6k8wMf5"
      }
    },
    {
      "cell_type": "code",
      "source": [
        "# Colab setup ------------------\n",
        "import os, sys, subprocess\n",
        "import pandas as pd\n",
        "import numpy as np\n",
        "import PIL\n",
        "import matplotlib.pyplot as plt\n",
        "\n",
        "if \"google.colab\" in sys.modules:\n",
        "    cmd = \"pip install --upgrade kaggle pandas==1.5.3\"\n",
        "    process = subprocess.Popen(cmd.split(), stdout=subprocess.PIPE, stderr=subprocess.PIPE)\n",
        "    stdout, stderr = process.communicate()\n",
        "    print(stdout.decode('utf-8'))\n",
        "    print(\"---\")\n",
        "    print(stderr.decode('utf-8'))\n",
        "else:\n",
        "    print(\"Error\")\n",
        "# ------------------------------"
      ],
      "metadata": {
        "id": "xVfVD62M9tBY"
      },
      "execution_count": null,
      "outputs": []
    },
    {
      "cell_type": "markdown",
      "source": [
        "## Kaggle Setup\n",
        "\n",
        "Kaggle is an online platform owned by Google for data science competitions and sharing common datasets (e.g. like the [Real vs Fake Face](https://www.kaggle.com/datasets/ciplab/real-and-fake-face-detection) dataset!).\n",
        "\n",
        "We can use Kaggle's command line API to download the data without any hassle.\n",
        "\n",
        "To this you need to complete a couple of steps:\n",
        "1. Signup for Kaggle [here](https://www.kaggle.com/account/login?phase=startRegisterTab&returnUrl=%2F) - an account is free!\n",
        "2. Go to the 'Account' tab of your user profile and select 'Create New Token'. This will trigger the download of kaggle.json, a file containing your API credentials.\n",
        "3. Upload `kaggle.json` to your Google Drive. Make sure you know which folder you store it in! For the sake of example, we will use `MyDrive/MDST/RvF/kaggle.json`"
      ],
      "metadata": {
        "id": "joZGr5Tt9uYZ"
      }
    },
    {
      "cell_type": "code",
      "execution_count": null,
      "metadata": {
        "id": "m1mFJLyf6m0o"
      },
      "outputs": [],
      "source": [
        "from google.colab import drive\n",
        "# makes files from your drive accessible\n",
        "drive.mount('/content/drive', force_remount=True)\n",
        "\n",
        "# TODO - specify path to your API key via google drive\n",
        "api_key_filepath = \"/content/drive/MyDrive/MDST/RvF/kaggle.json\"\n",
        "\n",
        "name_of_zip = \"real-and-fake-face-detection.zip\"\n",
        "data_directory_name = \"kaggle_data\"\n",
        "\n",
        "# Kaggle API Key setup ------------------\n",
        "cmd = \"mkdir /root/.kaggle\"\n",
        "process = subprocess.Popen(cmd.split(), stdout=subprocess.PIPE, stderr=subprocess.PIPE)\n",
        "stdout, stderr = process.communicate()\n",
        "print(stdout.decode(\"utf-8\"), stderr.decode(\"utf-8\"))\n",
        "cmd = f\"cp -f {api_key_filepath} /root/.kaggle/\"\n",
        "process = subprocess.Popen(cmd.split(), stdout=subprocess.PIPE, stderr=subprocess.PIPE)\n",
        "stdout, stderr = process.communicate()\n",
        "print(stdout.decode(\"utf-8\"), stderr.decode(\"utf-8\"))\n",
        "cmd = f\"chmod 600 /root/.kaggle/kaggle.json\"\n",
        "process = subprocess.Popen(cmd.split(), stdout=subprocess.PIPE, stderr=subprocess.PIPE)\n",
        "print(stdout.decode(\"utf-8\"), stderr.decode(\"utf-8\"))\n",
        "# ------------------------------\n"
      ]
    },
    {
      "cell_type": "code",
      "source": [
        "!kaggle datasets download -d ciplab/real-and-fake-face-detection"
      ],
      "metadata": {
        "id": "7Vk7Tupl5yhe"
      },
      "execution_count": null,
      "outputs": []
    },
    {
      "cell_type": "code",
      "source": [
        "!unzip -q real-and-fake-face-detection.zip"
      ],
      "metadata": {
        "id": "_RJGQjps5zvh"
      },
      "execution_count": null,
      "outputs": []
    },
    {
      "cell_type": "markdown",
      "source": [
        "If the above cells ran without errors, your API Key was setup correctly, and there were no problems downloading the data. We can see if the file was downloaded correctly if we print out the contents of the current directory - a new `real_and_fake_face` folder appeared with our images!"
      ],
      "metadata": {
        "id": "zkc_SdUvyeAo"
      }
    },
    {
      "cell_type": "code",
      "source": [
        "! ls"
      ],
      "metadata": {
        "id": "tayozxxRIJCz"
      },
      "execution_count": null,
      "outputs": []
    },
    {
      "cell_type": "markdown",
      "source": [
        "## Loading the Data\n",
        "\n",
        "You can use PIL to load an iamge from the file - if you can imagine, the face below is fake!"
      ],
      "metadata": {
        "id": "ZjJfbZS5KS4F"
      }
    },
    {
      "cell_type": "code",
      "source": [
        "PIL.Image.open(\"real_and_fake_face/training_fake/hard_204_0011.jpg\")"
      ],
      "metadata": {
        "id": "PukeS92LD_Gw"
      },
      "execution_count": null,
      "outputs": []
    },
    {
      "cell_type": "markdown",
      "source": [
        "**Task 1** - analyze the dataset! Try and answer some questions about it, like:\n",
        "- How many real faces do we have? How many fake faces do we have?\n",
        "- How many easy, medium, and hard faces do we have?\n",
        "- What could be some difficulties in detecting fake faces based on the data we see?"
      ],
      "metadata": {
        "id": "E4mI1NLe7GQs"
      }
    }
  ]
}